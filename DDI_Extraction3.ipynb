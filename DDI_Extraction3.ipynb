{
 "cells": [
  {
   "cell_type": "code",
   "execution_count": null,
   "metadata": {
    "id": "o0oXeE8-K2gB"
   },
   "outputs": [],
   "source": [
    "import untangle\n",
    "import pandas as pd\n",
    "\n",
    "# drug types to include\n",
    "drug_types = [\"biotech\", \"small molecule\"]\n",
    "# list of unwanted drugs\n",
    "unwanted_drugs = [\"vaccine\", \"antibody\", \"toxin\", \"biological\", \"biopolymer\", \"oligonucleotide\", \"oligosaccharide\"]\n",
    "\n",
    "input_file = \"C://Users/Peng/Downloads/full database.xml\"\n",
    "output_file = \"C://Users/Peng/Downloads/peng_ddi.csv\"\n",
    "\n",
    "obj = untangle.parse(input_file)\n",
    "columns = [\"drugbank_id1\", \"drug1\", \"drugbank_id2\", \"drug2\", \"interaction\"]\n",
    "rows = []\n",
    "\n",
    "for drug in obj.drugbank.drug:\n",
    "    if drug[\"type\"] not in drug_types:\n",
    "        continue\n",
    "\n",
    "    # Get primary drug id\n",
    "    for id in drug.drugbank_id:\n",
    "        if id[\"primary\"] == \"true\":\n",
    "            primary_id = id.cdata\n",
    "\n",
    "    # Skip drugs without calculated properties or without drug interactions\n",
    "    if not hasattr(drug, \"drug_interactions\") or len(drug.drug_interactions.cdata) == 0:\n",
    "        continue\n",
    "\n",
    "    # Check if drug name is in unwanted_drugs list\n",
    "    drug_name = drug.name.cdata.lower()\n",
    "    if any(unwanted_drug in drug_name for unwanted_drug in unwanted_drugs):\n",
    "        continue\n",
    "\n",
    "    for interaction in drug.drug_interactions.drug_interaction:\n",
    "        # Check if interaction drug name is in unwanted_drugs list\n",
    "        interaction_name = interaction.name.cdata.lower()\n",
    "        if any(unwanted_drug in interaction_name for unwanted_drug in unwanted_drugs):\n",
    "            continue\n",
    "        \n",
    "        rows.append([primary_id, drug.name.cdata, interaction.drugbank_id.cdata, interaction.name.cdata, interaction.description.cdata])\n",
    "\n",
    "df = pd.DataFrame(rows, columns=columns)\n",
    "\n",
    "# Write to CSV\n",
    "with open(output_file, \"w\", encoding=\"utf-8\", newline=\"\") as f:\n",
    "    writer = csv.writer(f)\n",
    "    writer.writerow(columns)\n",
    "    writer.writerows(rows)\n"
   ]
  }
 ],
 "metadata": {
  "colab": {
   "provenance": []
  },
  "kernelspec": {
   "display_name": "Python 3",
   "language": "python",
   "name": "python3"
  },
  "language_info": {
   "codemirror_mode": {
    "name": "ipython",
    "version": 3
   },
   "file_extension": ".py",
   "mimetype": "text/x-python",
   "name": "python",
   "nbconvert_exporter": "python",
   "pygments_lexer": "ipython3",
   "version": "3.8.8"
  }
 },
 "nbformat": 4,
 "nbformat_minor": 1
}
