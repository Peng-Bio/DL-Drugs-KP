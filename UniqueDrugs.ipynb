{
 "cells": [
  {
   "cell_type": "code",
   "execution_count": 2,
   "id": "f7fefd10",
   "metadata": {},
   "outputs": [],
   "source": [
    "import time\n",
    "# Start tracking process time\n",
    "start_time = time.process_time()"
   ]
  },
  {
   "cell_type": "code",
   "execution_count": 3,
   "id": "be10b562",
   "metadata": {},
   "outputs": [],
   "source": [
    "import pandas as pd\n",
    "from rdkit import Chem\n",
    "from rdkit.Chem import AllChem"
   ]
  },
  {
   "cell_type": "code",
   "execution_count": 4,
   "id": "46d058c8",
   "metadata": {},
   "outputs": [],
   "source": [
    "# Read the drug interaction data\n",
    "df_interaction = pd.read_csv('C://Users/Peng/Downloads/ddi.csv')\n",
    "df_interaction = df_interaction.dropna()"
   ]
  },
  {
   "cell_type": "code",
   "execution_count": 5,
   "id": "32d51c12",
   "metadata": {},
   "outputs": [],
   "source": [
    "# Remove duplicates\n",
    "mask = df_interaction.duplicated(subset=['drugbank_id1', 'drugbank_id2']) | df_interaction.duplicated(subset=['drugbank_id2', 'drugbank_id1'])\n",
    "df_interaction = df_interaction[~mask]"
   ]
  },
  {
   "cell_type": "code",
   "execution_count": null,
   "id": "da43a0ec",
   "metadata": {},
   "outputs": [],
   "source": [
    "# remove duplicates if drug1 = drug2 and drug2 = drug1\n",
    "mask = df_interaction.duplicated(subset=['drugbank_id1', 'drugbank_id2']) | df_interaction.duplicated(subset=['drugbank_id2', 'drugbank_id1'])\n",
    "\n",
    "# Remove duplicates\n",
    "df_interaction = df_interaction[~mask]\n",
    "\n",
    "df_interaction"
   ]
  },
  {
   "cell_type": "code",
   "execution_count": 6,
   "id": "e6078406",
   "metadata": {},
   "outputs": [],
   "source": [
    "# Define values to remove\n",
    "values_to_remove = [\n",
    "    '(4-{(2S)-2-[(tert-butoxycarbonyl)amino]-3-methoxy-3-oxopropyl}phenyl)methaneseleninic acid',\n",
    "    '(S)-2-Amino-3-(4h-Selenolo[3,2-B]-Pyrrol-6-Yl)-Propionic Acid',\n",
    "    'Florbetaben (18F)']"
   ]
  },
  {
   "cell_type": "code",
   "execution_count": 7,
   "id": "9e550aaa",
   "metadata": {},
   "outputs": [
    {
     "name": "stdout",
     "output_type": "stream",
     "text": [
      "3475\n"
     ]
    }
   ],
   "source": [
    "# Remove rows with values to remove\n",
    "df_interaction = df_interaction[~(df_interaction['drug1'].str.strip().isin(values_to_remove) | df_interaction['drug2'].str.strip().isin(values_to_remove))]\n",
    "\n",
    "# Read the drugList data\n",
    "res = pd.read_csv('output_data.csv')\n",
    "drugList_A = res.drugA.unique().tolist()\n",
    "drugList_B = res.drugB.unique().tolist()\n",
    "drugList_A.extend(drugList_B)\n",
    "drugList = [*set(drugList_A)]\n",
    "print(len(drugList))"
   ]
  },
  {
   "cell_type": "code",
   "execution_count": 8,
   "id": "c75a8afd",
   "metadata": {},
   "outputs": [
    {
     "name": "stdout",
     "output_type": "stream",
     "text": [
      "4389\n",
      "4390\n",
      "8779\n",
      "4390\n"
     ]
    }
   ],
   "source": [
    "drugList_A = df_interaction.drug1.unique().tolist()\n",
    "print(len(drugList_A))\n",
    "drugList_B = df_interaction.drug2.unique().tolist()\n",
    "print(len(drugList_B))\n",
    "drugList_A.extend(drugList_B)\n",
    "print(len(drugList_A))\n",
    "drugList = [*set(drugList_A)]\n",
    "print(len(drugList))"
   ]
  },
  {
   "cell_type": "code",
   "execution_count": 9,
   "id": "3ab1ca16",
   "metadata": {},
   "outputs": [],
   "source": [
    "# Create a DataFrame to store the drugList results\n",
    "# Modify this part to include empty drugbank IDs\n",
    "drug_id_list = []\n",
    "for drug_name in drugList:\n",
    "    drug_id1 = df_interaction.loc[df_interaction['drug1'] == drug_name, 'drugbank_id1'].values\n",
    "    drug_id2 = df_interaction.loc[df_interaction['drug2'] == drug_name, 'drugbank_id2'].values\n",
    "    if drug_id1.any():\n",
    "        drug_id_list.append(drug_id1[0])\n",
    "    elif drug_id2.any():\n",
    "        drug_id_list.append(drug_id2[0])\n",
    "    else:\n",
    "        drug_id_list.append('N/A')\n",
    "\n",
    "drugList_df = pd.DataFrame({'index': range(len(drugList)),\n",
    "                            'drug_id': drug_id_list,\n",
    "                            'drug_name': drugList})\n",
    "\n",
    "# Save the drug information DataFrame to a CSV file\n",
    "drugList_df.to_csv('drugList062124.csv', index=False)"
   ]
  },
  {
   "cell_type": "code",
   "execution_count": null,
   "id": "1b250c18",
   "metadata": {},
   "outputs": [],
   "source": [
    "# Create a DataFrame to store the drugList results\n",
    "# Modify this part to include empty drugbank IDs\n",
    "drugbank_id_list = []\n",
    "for drug_name in drugList:\n",
    "    drugbank_id1 = df_interaction.loc[df_interaction['drug1'] == drug_name, 'drugbank_id1'].values\n",
    "    drugbank_id2 = df_interaction.loc[df_interaction['drug2'] == drug_name, 'drugbank_id2'].values\n",
    "    if drugbank_id1.any():\n",
    "        drugbank_id_list.append(drugbank_id1[0])\n",
    "    elif drug_id2.any():\n",
    "        drugbank_id_list.append(drug_id2[0])\n",
    "    else:\n",
    "        drugbank_id_list.append('N/A')\n",
    "\n",
    "drugList_df = pd.DataFrame({'index': range(len(drugList)),\n",
    "                            'drugbank_id': drugbank_id_list,\n",
    "                            'drug_name': drugList})\n",
    "\n",
    "# Save the drug information DataFrame to a CSV file\n",
    "drugList_df.to_csv('drugList 061524.csv', index=False)"
   ]
  },
  {
   "cell_type": "code",
   "execution_count": null,
   "id": "c7598f1a",
   "metadata": {},
   "outputs": [],
   "source": [
    "# Read the SMILES data: for 11583 drugbank IDs\n",
    "drugbank_smiles = pd.read_csv(\"C://Users/Peng/Downloads/SMILES Aug 2023rev1.0.csv\", encoding='utf-8') # Don't alter file name\n",
    "\n",
    "# Merge drugList data with SMILES data\n",
    "drug_info_df = pd.merge(drugList_df, drugbank_smiles, left_on='drugbank_id', right_on='drugbank_id', how='left')\n",
    "\n",
    "# Fill empty SMILES with a placeholder (e.g., 'N/A' or any desired value)\n",
    "drug_info_df['smiles'].fillna('N/A', inplace=True)# Replace empty drugbank IDs with correct drugbank IDs\n",
    "\n",
    "# Replace empty drugbank IDs with correct drugbank IDs\n",
    "drug_info_df['drugbank_id'].fillna('N/A', inplace="
   ]
  },
  {
   "cell_type": "code",
   "execution_count": 12,
   "id": "cce57266",
   "metadata": {},
   "outputs": [],
   "source": [
    "# Read the filtered database with the \"target\" column\n",
    "df_filtered = pd.read_csv('C://Users/Peng/Downloads/DRKG Oct 2023/filtered_database 110423.csv')\n",
    "\n",
    "# Merge the \"target\" column with drug information based on \"drugbank_id\" and \"drug_name\"\n",
    "drug_info_df = pd.read_csv('C://Users/Peng/Downloads/DRKG Oct 2023/SMILES-3475 sorted by drug IDs.csv')\n",
    "drug_info_df = pd.merge(drug_info_df, df_filtered[['drugbank_id', 'drug_name', 'target','enzyme']], on=['drugbank_id', 'drug_name'], how='left')\n",
    "\n",
    "# Fill empty \"target\" values with a placeholder (e.g., 'N/A' or any desired value)\n",
    "drug_info_df['target'].fillna('N/A', inplace=True)\n",
    "\n",
    "# Fill empty SMILES with 'N/A'\n",
    "drug_info_df['smiles'].fillna('N/A', inplace=True)\n",
    "\n",
    "# Select and reorder columns\n",
    "# drug_info_df = drug_info_df[['index', 'drugbank_id', 'target', 'enzyme', 'smiles', 'drug_name']]\n",
    "\n",
    "drug_info_df = drug_info_df[['drugbank_id', 'target', 'enzyme', 'smiles', 'drug_name']]\n",
    "\n",
    "\n",
    "# Save the updated drug information DataFrame to a CSV file\n",
    "drug_info_df.to_csv('C://Users/Peng/Downloads/DRKG Oct 2023/drug_information.csv', index=False)"
   ]
  },
  {
   "cell_type": "code",
   "execution_count": 13,
   "id": "8f8b33aa",
   "metadata": {},
   "outputs": [
    {
     "name": "stdout",
     "output_type": "stream",
     "text": [
      "Processing time: 1096.640625 seconds\n"
     ]
    }
   ],
   "source": [
    "# End timer and print elapsed time\n",
    "end_time = time.process_time()\n",
    "print(f\"Processing time: {end_time - start_time} seconds\") # 41.5 minutes process time"
   ]
  },
  {
   "cell_type": "code",
   "execution_count": null,
   "id": "464550f6",
   "metadata": {},
   "outputs": [],
   "source": []
  },
  {
   "cell_type": "code",
   "execution_count": null,
   "id": "ccc58a72",
   "metadata": {},
   "outputs": [],
   "source": []
  }
 ],
 "metadata": {
  "kernelspec": {
   "display_name": "Python 3",
   "language": "python",
   "name": "python3"
  },
  "language_info": {
   "codemirror_mode": {
    "name": "ipython",
    "version": 3
   },
   "file_extension": ".py",
   "mimetype": "text/x-python",
   "name": "python",
   "nbconvert_exporter": "python",
   "pygments_lexer": "ipython3",
   "version": "3.12.4"
  }
 },
 "nbformat": 4,
 "nbformat_minor": 5
}
